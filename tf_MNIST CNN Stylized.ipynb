{
 "cells": [
  {
   "cell_type": "code",
   "execution_count": 3,
   "metadata": {
    "collapsed": false
   },
   "outputs": [],
   "source": [
    "import sys; \n",
    "import numpy as np\n",
    "import matplotlib.pyplot as plt\n",
    "from matplotlib import cm\n",
    "%matplotlib inline"
   ]
  },
  {
   "cell_type": "code",
   "execution_count": 4,
   "metadata": {
    "collapsed": false
   },
   "outputs": [],
   "source": [
    "import tensorflow as tf"
   ]
  },
  {
   "cell_type": "markdown",
   "metadata": {},
   "source": [
    "# Load MINIST Data"
   ]
  },
  {
   "cell_type": "code",
   "execution_count": 5,
   "metadata": {
    "collapsed": false
   },
   "outputs": [
    {
     "name": "stdout",
     "output_type": "stream",
     "text": [
      "Extracting MNIST_data/train-images-idx3-ubyte.gz\n",
      "Extracting MNIST_data/train-labels-idx1-ubyte.gz\n",
      "Extracting MNIST_data/t10k-images-idx3-ubyte.gz\n",
      "Extracting MNIST_data/t10k-labels-idx1-ubyte.gz\n",
      "<class 'tensorflow.contrib.learn.python.learn.datasets.base.Datasets'>\n"
     ]
    }
   ],
   "source": [
    "from tensorflow.examples.tutorials.mnist import input_data\n",
    "mnist = input_data.read_data_sets('MNIST_data', one_hot=True)\n",
    "print type(mnist)"
   ]
  },
  {
   "cell_type": "code",
   "execution_count": 6,
   "metadata": {
    "collapsed": false
   },
   "outputs": [
    {
     "name": "stdout",
     "output_type": "stream",
     "text": [
      "(55000, 784)\n",
      "(10000, 784)\n"
     ]
    }
   ],
   "source": [
    "print mnist.train.images.shape\n",
    "print mnist.test.images.shape"
   ]
  },
  {
   "cell_type": "code",
   "execution_count": 133,
   "metadata": {
    "collapsed": false
   },
   "outputs": [],
   "source": [
    "PIXELS = mnist.train.images.shape[1]\n",
    "IMG_HT = np.sqrt( PIXELS ).astype(int)\n",
    "IMG_WID = PIXELS / IMG_HT\n",
    "CHANNEL = 1\n",
    "KLASS = 10"
   ]
  },
  {
   "cell_type": "code",
   "execution_count": 40,
   "metadata": {
    "collapsed": false
   },
   "outputs": [
    {
     "data": {
      "image/png": "[encoded data removed]",
      "text/plain": [
       "<matplotlib.figure.Figure at 0x11bd4e990>"
      ]
     },
     "metadata": {},
     "output_type": "display_data"
    }
   ],
   "source": [
    "tmp = mnist.train.images[1] # np ndarray\n",
    "tmp = tmp.reshape((IMG_SZ, IMG_SZ))\n",
    "plt.imshow(tmp, cmap = cm.Greys)\n",
    "plt.show()"
   ]
  },
  {
   "cell_type": "markdown",
   "metadata": {},
   "source": [
    "# Session"
   ]
  },
  {
   "cell_type": "code",
   "execution_count": 9,
   "metadata": {
    "collapsed": true
   },
   "outputs": [],
   "source": [
    "sess = tf.InteractiveSession() # "
   ]
  },
  {
   "cell_type": "markdown",
   "metadata": {},
   "source": [
    "# Training"
   ]
  },
  {
   "cell_type": "markdown",
   "metadata": {},
   "source": [
    "### Functions"
   ]
  },
  {
   "cell_type": "code",
   "execution_count": 14,
   "metadata": {
    "collapsed": true
   },
   "outputs": [],
   "source": [
    "# Define a weight variable. shape is a list\n",
    "def weight_variable(shape):\n",
    "    initial = tf.truncated_normal(shape, stddev=0.1)\n",
    "    return tf.Variable(initial)"
   ]
  },
  {
   "cell_type": "code",
   "execution_count": 15,
   "metadata": {
    "collapsed": true
   },
   "outputs": [],
   "source": [
    "# Define a bias variable. shape is a list\n",
    "def bias_variable(shape):\n",
    "    initial = tf.constant(0.1, shape=shape)\n",
    "    return tf.Variable(initial)"
   ]
  },
  {
   "cell_type": "code",
   "execution_count": 132,
   "metadata": {
    "collapsed": false
   },
   "outputs": [],
   "source": [
    "# Define a few ops and variables\n",
    "# x: placeholder, batch * h * w * ch_in\n",
    "# name: e.g. 'hidden1'\n",
    "# return: tensor, batch * h * w * ch_out\n",
    "def conv_layer(x, h_filter, w_filter, ch_out, name):\n",
    "    bat, h, w, ch_in = x.get_shape().as_list()\n",
    "    with tf.name_scope( name ):\n",
    "        W = weight_variable( [h_filter, w_filter, ch_in, ch_out] ) # [h_filter, h_filter, channel_in, channel_out]\n",
    "        b = bias_variable( [ch_out] )\n",
    "        s = tf.nn.conv2d(x, W, strides=[1, 1, 1, 1], padding='SAME') + b\n",
    "        h = tf.nn.relu( s )\n",
    "        return tf.nn.max_pool( h, ksize=[1, 2, 2, 1], strides=[1, 2, 2, 1], padding='SAME' )"
   ]
  },
  {
   "cell_type": "code",
   "execution_count": 106,
   "metadata": {
    "collapsed": false
   },
   "outputs": [],
   "source": [
    "# Define a few ops and variables\n",
    "# x: placeholder, batch * dim_in\n",
    "# keep_prob = tf.placeholder( tf.float32 ), if None, no dropout\n",
    "# name: e.g. 'hidden1'\n",
    "# return: tensor, batch * dim_out\n",
    "def fc_layer(x, dim_out, activate, keep_prob, name):\n",
    "    bat, dim_in = x.get_shape().as_list()\n",
    "    with tf.name_scope( name ):\n",
    "        W = weight_variable( [dim_in, dim_out] )\n",
    "        b = bias_variable( [dim_out] )\n",
    "        s = tf.matmul( x, W ) + b\n",
    "        if activate == None:  # no activation\n",
    "            return s\n",
    "        h = tf.nn.relu( s )\n",
    "        if keep_prob == None:  \n",
    "            return h\n",
    "        # dropout\n",
    "        return tf.nn.dropout( h, keep_prob )"
   ]
  },
  {
   "cell_type": "code",
   "execution_count": 107,
   "metadata": {
    "collapsed": false
   },
   "outputs": [],
   "source": [
    "# s: logits, i.e., unscaled log prob., batch * klass\n",
    "# y: labels ([0, klass-1)), 1 * batch\n",
    "# return: avg. loss across samples of batch\n",
    "def cross_entropy_loss( s, y ):\n",
    "    return tf.reduce_mean( tf.nn.softmax_cross_entropy_with_logits( s, y ) )"
   ]
  },
  {
   "cell_type": "code",
   "execution_count": 108,
   "metadata": {
    "collapsed": true
   },
   "outputs": [],
   "source": [
    "# Define an Op for train a step on batch\n",
    "# loss: the output of \"loss\" Op \n",
    "# step_sz: placeholder\n",
    "def train_step( loss, step_sz ):\n",
    "    return tf.train.AdamOptimizer(step_sz).minimize(loss)"
   ]
  },
  {
   "cell_type": "code",
   "execution_count": 189,
   "metadata": {
    "collapsed": true
   },
   "outputs": [],
   "source": [
    "# s: logits, i.e., unscaled log prob., batch * klass\n",
    "# y: labels, i.e. 0 or 1 over k classes, batch * klass\n",
    "# return: avg. accuracy across samples of batch\n",
    "def accuracy( s, y ):\n",
    "    correct = tf.equal( tf.argmax(s, 1), tf.argmax(y, 1) )\n",
    "    return tf.reduce_mean( tf.cast(correct, tf.float32) )"
   ]
  },
  {
   "cell_type": "markdown",
   "metadata": {},
   "source": [
    "### Input Data for Graph (placeholder)"
   ]
  },
  {
   "cell_type": "code",
   "execution_count": 110,
   "metadata": {
    "collapsed": false
   },
   "outputs": [],
   "source": [
    "####\n",
    "# Placeholders are usually the values that could be changed in ITERATION when runing the graph.\n",
    "# The values that are only changed when constructing the graph can be normal parameters.  "
   ]
  },
  {
   "cell_type": "code",
   "execution_count": 111,
   "metadata": {
    "collapsed": false
   },
   "outputs": [],
   "source": [
    "x = tf.placeholder(tf.float32, shape=[None, PIXELS])  # batch size is foo\n",
    "y = tf.placeholder(tf.float32, shape=[None, KLASS])\n",
    "keep_prob = tf.placeholder(tf.float32)\n",
    "step_sz = tf.placeholder(tf.float32)"
   ]
  },
  {
   "cell_type": "markdown",
   "metadata": {},
   "source": [
    "### Construct Graph"
   ]
  },
  {
   "cell_type": "code",
   "execution_count": 112,
   "metadata": {
    "collapsed": false
   },
   "outputs": [],
   "source": [
    "####\n",
    "# Construct graph only once. In evaluation, we change input values (placeholders) to re-use the graph"
   ]
  },
  {
   "cell_type": "code",
   "execution_count": 115,
   "metadata": {
    "collapsed": false
   },
   "outputs": [
    {
     "name": "stdout",
     "output_type": "stream",
     "text": [
      "(?, 28, 28, 1)\n"
     ]
    }
   ],
   "source": [
    "x_image = tf.reshape(x, [-1, IMG_HT, IMG_WID, CHANNEL])  # [batch, 28, 28, 1]\n",
    "print x_image.get_shape()"
   ]
  },
  {
   "cell_type": "code",
   "execution_count": 123,
   "metadata": {
    "collapsed": false
   },
   "outputs": [
    {
     "name": "stdout",
     "output_type": "stream",
     "text": [
      "(?, 14, 14, 32)\n",
      "(?, 7, 7, 64)\n",
      "(?, 3136)\n",
      "(?, 1024)\n",
      "(?, 10)\n"
     ]
    }
   ],
   "source": [
    "sz_fil = 5\n",
    "# Conv 1\n",
    "h1_image = conv_layer( x_image, sz_fil, sz_fil, 32, 'conv1' )  \n",
    "print h1_image.get_shape()\n",
    "\n",
    "# Conv 2\n",
    "h2_image = conv_layer( h1_image, sz_fil, sz_fil, 64, 'conv2' )\n",
    "print h2_image.get_shape()\n",
    "\n",
    "# FC 1\n",
    "bat, h_h2, w_h2, ch_h2 = h2_image.get_shape().as_list()\n",
    "h2_flat = tf.reshape( h2_image, [-1, h_h2 * w_h2 * ch_h2] )\n",
    "print h2_flat.get_shape()\n",
    "h3_flat = fc_layer( h2_flat, 1024, activate='ReLu', keep_prob=keep_prob, name='fc1')\n",
    "print h3_flat.get_shape()\n",
    "\n",
    "# FC 2 (output logits)\n",
    "s = fc_layer( h3_flat, KLASS, activate=None, keep_prob=None, name='out')\n",
    "print s.get_shape()"
   ]
  },
  {
   "cell_type": "markdown",
   "metadata": {},
   "source": [
    "#### Define Optimization Op"
   ]
  },
  {
   "cell_type": "code",
   "execution_count": 124,
   "metadata": {
    "collapsed": true
   },
   "outputs": [],
   "source": [
    "loss = cross_entropy_loss( s, y )\n",
    "update = train_step( loss, step_sz ) # define an Op\n",
    "accuracy = accuracy( s, y )"
   ]
  },
  {
   "cell_type": "markdown",
   "metadata": {},
   "source": [
    "### Running Graph by Batch"
   ]
  },
  {
   "cell_type": "code",
   "execution_count": 126,
   "metadata": {
    "collapsed": true
   },
   "outputs": [],
   "source": [
    "sess.run(tf.initialize_all_variables())"
   ]
  },
  {
   "cell_type": "code",
   "execution_count": 127,
   "metadata": {
    "collapsed": false
   },
   "outputs": [
    {
     "name": "stdout",
     "output_type": "stream",
     "text": [
      "step 0, training accuracy 0.06\n",
      "step 100, training accuracy 0.84\n",
      "step 200, training accuracy 0.88\n",
      "step 300, training accuracy 0.86\n",
      "step 400, training accuracy 0.94\n"
     ]
    }
   ],
   "source": [
    "for i in range(500):\n",
    "    batch = mnist.train.next_batch(50)\n",
    "    feed_dict = { x:batch[0], y: batch[1], keep_prob: 1.0, step_sz: 1e-4 }\n",
    "    if i % 100 == 0:\n",
    "        train_accuracy = accuracy.eval( feed_dict=feed_dict  )\n",
    "        print( \"step %d, training accuracy %g\"%(i, train_accuracy) )\n",
    "    update.run( feed_dict=feed_dict ) # compute gradient and update Variables"
   ]
  },
  {
   "cell_type": "markdown",
   "metadata": {},
   "source": [
    "# Testing"
   ]
  },
  {
   "cell_type": "markdown",
   "metadata": {},
   "source": [
    "### Overall Accuracy"
   ]
  },
  {
   "cell_type": "code",
   "execution_count": 130,
   "metadata": {
    "collapsed": false
   },
   "outputs": [
    {
     "name": "stdout",
     "output_type": "stream",
     "text": [
      "test accuracy 0.9504\n"
     ]
    }
   ],
   "source": [
    "feed_dict = { x: mnist.test.images, y: mnist.test.labels, keep_prob: 1.0 }\n",
    "print( \"test accuracy %g\" % accuracy.eval( feed_dict=feed_dict ) )"
   ]
  },
  {
   "cell_type": "markdown",
   "metadata": {},
   "source": [
    "### Spot Check Sample Images"
   ]
  },
  {
   "cell_type": "code",
   "execution_count": 195,
   "metadata": {
    "collapsed": false
   },
   "outputs": [
    {
     "data": {
      "image/png": "[encoded data removed]",
      "text/plain": [
       "<matplotlib.figure.Figure at 0x11d8160d0>"
      ]
     },
     "metadata": {},
     "output_type": "display_data"
    }
   ],
   "source": [
    "arr = mnist.test.images[1, :] # np ndarray\n",
    "img = arr.reshape((IMG_SZ, IMG_SZ))\n",
    "plt.imshow(img, cmap = cm.Greys)\n",
    "plt.show()"
   ]
  },
  {
   "cell_type": "code",
   "execution_count": 162,
   "metadata": {
    "collapsed": false
   },
   "outputs": [
    {
     "name": "stdout",
     "output_type": "stream",
     "text": [
      "[[ 0.  0.  0.  0.  0.  0.  0.  1.  0.  0.]\n",
      " [ 0.  0.  1.  0.  0.  0.  0.  0.  0.  0.]\n",
      " [ 0.  1.  0.  0.  0.  0.  0.  0.  0.  0.]]\n"
     ]
    }
   ],
   "source": [
    "arrs = mnist.test.images[0:3, :] \n",
    "labels = mnist.test.labels[0:3, :] \n",
    "print label"
   ]
  },
  {
   "cell_type": "code",
   "execution_count": 199,
   "metadata": {
    "collapsed": false
   },
   "outputs": [
    {
     "name": "stdout",
     "output_type": "stream",
     "text": [
      "[[  0.43100956  -4.32141209   2.0139246    2.42280674  -4.29311848\n",
      "   -1.0875144   -7.19245958  15.7839489   -3.87987351   1.71959388]\n",
      " [  3.39770579   3.37829876  12.21088028   1.05556774  -4.07108879\n",
      "    0.90789735   1.18933296  -7.29820442   2.445261    -4.0108881 ]\n",
      " [ -0.32701871   5.05895996   0.71152264  -2.57343554   1.25383544\n",
      "   -3.64888573  -0.07787615   0.52905464   0.21747532  -1.3826896 ]]\n",
      "[7 2 1]\n"
     ]
    }
   ],
   "source": [
    "print s.eval( feed_dict={x: arrs, keep_prob: 1.0} ) # logits predicted by CNN\n",
    "ss = tf.argmax(s, 1)\n",
    "print ss.eval( feed_dict={x: arrs, keep_prob: 1.0} )"
   ]
  },
  {
   "cell_type": "code",
   "execution_count": 201,
   "metadata": {
    "collapsed": false
   },
   "outputs": [
    {
     "name": "stdout",
     "output_type": "stream",
     "text": [
      "[7 2 1]\n"
     ]
    }
   ],
   "source": [
    "yy = tf.argmax(y, 1)\n",
    "print yy.eval( feed_dict={y:labels} )"
   ]
  },
  {
   "cell_type": "code",
   "execution_count": 202,
   "metadata": {
    "collapsed": false
   },
   "outputs": [
    {
     "data": {
      "text/plain": [
       "array([ True,  True,  True], dtype=bool)"
      ]
     },
     "execution_count": 202,
     "metadata": {},
     "output_type": "execute_result"
    }
   ],
   "source": [
    "eq = tf.equal(ss, yy)\n",
    "eq.eval( feed_dict=feed_dict )"
   ]
  }
 ],
 "metadata": {
  "anaconda-cloud": {},
  "kernelspec": {
   "display_name": "Python [conda root]",
   "language": "python",
   "name": "conda-root-py"
  },
  "language_info": {
   "codemirror_mode": {
    "name": "ipython",
    "version": 2
   },
   "file_extension": ".py",
   "mimetype": "text/x-python",
   "name": "python",
   "nbconvert_exporter": "python",
   "pygments_lexer": "ipython2",
   "version": "2.7.12"
  }
 },
 "nbformat": 4,
 "nbformat_minor": 1
}
